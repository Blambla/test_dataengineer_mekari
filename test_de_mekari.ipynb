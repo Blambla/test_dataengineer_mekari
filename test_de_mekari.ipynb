{
 "cells": [
  {
   "cell_type": "code",
   "execution_count": 1,
   "id": "b8ad5448",
   "metadata": {},
   "outputs": [],
   "source": [
    "import pandas as pd\n",
    "import numpy as np\n",
    "import math\n",
    "from datetime import datetime"
   ]
  },
  {
   "cell_type": "code",
   "execution_count": 2,
   "id": "ff24747c",
   "metadata": {},
   "outputs": [],
   "source": [
    "dfe = pd.read_csv(\"employees.csv\")"
   ]
  },
  {
   "cell_type": "code",
   "execution_count": 3,
   "id": "d528fbf6",
   "metadata": {},
   "outputs": [
    {
     "data": {
      "text/html": [
       "<div>\n",
       "<style scoped>\n",
       "    .dataframe tbody tr th:only-of-type {\n",
       "        vertical-align: middle;\n",
       "    }\n",
       "\n",
       "    .dataframe tbody tr th {\n",
       "        vertical-align: top;\n",
       "    }\n",
       "\n",
       "    .dataframe thead th {\n",
       "        text-align: right;\n",
       "    }\n",
       "</style>\n",
       "<table border=\"1\" class=\"dataframe\">\n",
       "  <thead>\n",
       "    <tr style=\"text-align: right;\">\n",
       "      <th></th>\n",
       "      <th>employe_id</th>\n",
       "      <th>branch_id</th>\n",
       "      <th>salary</th>\n",
       "      <th>join_date</th>\n",
       "      <th>resign_date</th>\n",
       "    </tr>\n",
       "  </thead>\n",
       "  <tbody>\n",
       "    <tr>\n",
       "      <th>0</th>\n",
       "      <td>1</td>\n",
       "      <td>3</td>\n",
       "      <td>7500000</td>\n",
       "      <td>2018-08-23</td>\n",
       "      <td>NaN</td>\n",
       "    </tr>\n",
       "    <tr>\n",
       "      <th>1</th>\n",
       "      <td>7</td>\n",
       "      <td>1</td>\n",
       "      <td>7500000</td>\n",
       "      <td>2017-04-28</td>\n",
       "      <td>NaN</td>\n",
       "    </tr>\n",
       "    <tr>\n",
       "      <th>2</th>\n",
       "      <td>8</td>\n",
       "      <td>1</td>\n",
       "      <td>13000000</td>\n",
       "      <td>2017-04-28</td>\n",
       "      <td>NaN</td>\n",
       "    </tr>\n",
       "    <tr>\n",
       "      <th>3</th>\n",
       "      <td>9</td>\n",
       "      <td>1</td>\n",
       "      <td>13500000</td>\n",
       "      <td>2017-12-22</td>\n",
       "      <td>2020-10-14</td>\n",
       "    </tr>\n",
       "    <tr>\n",
       "      <th>4</th>\n",
       "      <td>10</td>\n",
       "      <td>1</td>\n",
       "      <td>9000000</td>\n",
       "      <td>2018-03-01</td>\n",
       "      <td>2020-12-20</td>\n",
       "    </tr>\n",
       "  </tbody>\n",
       "</table>\n",
       "</div>"
      ],
      "text/plain": [
       "   employe_id  branch_id    salary   join_date resign_date\n",
       "0           1          3   7500000  2018-08-23         NaN\n",
       "1           7          1   7500000  2017-04-28         NaN\n",
       "2           8          1  13000000  2017-04-28         NaN\n",
       "3           9          1  13500000  2017-12-22  2020-10-14\n",
       "4          10          1   9000000  2018-03-01  2020-12-20"
      ]
     },
     "execution_count": 3,
     "metadata": {},
     "output_type": "execute_result"
    }
   ],
   "source": [
    "dfe.head()"
   ]
  },
  {
   "cell_type": "code",
   "execution_count": 4,
   "id": "e67e143f",
   "metadata": {},
   "outputs": [],
   "source": [
    "dfe = dfe.rename(columns={'employe_id': 'employee_id'})"
   ]
  },
  {
   "cell_type": "code",
   "execution_count": 5,
   "id": "d0948d70",
   "metadata": {},
   "outputs": [
    {
     "name": "stdout",
     "output_type": "stream",
     "text": [
      "<class 'pandas.core.frame.DataFrame'>\n",
      "RangeIndex: 177 entries, 0 to 176\n",
      "Data columns (total 5 columns):\n",
      " #   Column       Non-Null Count  Dtype \n",
      "---  ------       --------------  ----- \n",
      " 0   employee_id  177 non-null    int64 \n",
      " 1   branch_id    177 non-null    int64 \n",
      " 2   salary       177 non-null    int64 \n",
      " 3   join_date    177 non-null    object\n",
      " 4   resign_date  39 non-null     object\n",
      "dtypes: int64(3), object(2)\n",
      "memory usage: 7.0+ KB\n"
     ]
    }
   ],
   "source": [
    "dfe.info()"
   ]
  },
  {
   "cell_type": "code",
   "execution_count": 6,
   "id": "d8983198",
   "metadata": {},
   "outputs": [],
   "source": [
    "dfe['join_date'] = pd.to_datetime(dfe['join_date'])"
   ]
  },
  {
   "cell_type": "code",
   "execution_count": 7,
   "id": "777b9b76",
   "metadata": {},
   "outputs": [],
   "source": [
    "dfe['resign_date'] = pd.to_datetime(dfe['resign_date'])"
   ]
  },
  {
   "cell_type": "code",
   "execution_count": 8,
   "id": "f7525fb4",
   "metadata": {},
   "outputs": [],
   "source": [
    "dfe['resign_date'] = dfe['resign_date'].fillna(datetime.today().strftime('%Y-%m-%d'))"
   ]
  },
  {
   "cell_type": "code",
   "execution_count": 9,
   "id": "2921abaa",
   "metadata": {},
   "outputs": [],
   "source": [
    "dfe['month_interval'] = ((dfe.resign_date - dfe.join_date)/np.timedelta64(1, 'M')).apply(lambda x:math.floor(x))"
   ]
  },
  {
   "cell_type": "code",
   "execution_count": 10,
   "id": "3329563f",
   "metadata": {},
   "outputs": [],
   "source": [
    "dfe['total_salary'] = dfe.salary * dfe.month_interval"
   ]
  },
  {
   "cell_type": "code",
   "execution_count": 11,
   "id": "f6819311",
   "metadata": {},
   "outputs": [],
   "source": [
    "dfe_acc = dfe.groupby(['branch_id'])['total_salary'].sum().reset_index()"
   ]
  },
  {
   "cell_type": "code",
   "execution_count": 12,
   "id": "3ba65c34",
   "metadata": {},
   "outputs": [
    {
     "data": {
      "text/html": [
       "<div>\n",
       "<style scoped>\n",
       "    .dataframe tbody tr th:only-of-type {\n",
       "        vertical-align: middle;\n",
       "    }\n",
       "\n",
       "    .dataframe tbody tr th {\n",
       "        vertical-align: top;\n",
       "    }\n",
       "\n",
       "    .dataframe thead th {\n",
       "        text-align: right;\n",
       "    }\n",
       "</style>\n",
       "<table border=\"1\" class=\"dataframe\">\n",
       "  <thead>\n",
       "    <tr style=\"text-align: right;\">\n",
       "      <th></th>\n",
       "      <th>branch_id</th>\n",
       "      <th>total_salary</th>\n",
       "    </tr>\n",
       "  </thead>\n",
       "  <tbody>\n",
       "    <tr>\n",
       "      <th>0</th>\n",
       "      <td>1</td>\n",
       "      <td>16706500000</td>\n",
       "    </tr>\n",
       "    <tr>\n",
       "      <th>1</th>\n",
       "      <td>2</td>\n",
       "      <td>5355500000</td>\n",
       "    </tr>\n",
       "    <tr>\n",
       "      <th>2</th>\n",
       "      <td>3</td>\n",
       "      <td>2033000000</td>\n",
       "    </tr>\n",
       "    <tr>\n",
       "      <th>3</th>\n",
       "      <td>2590</td>\n",
       "      <td>3711500000</td>\n",
       "    </tr>\n",
       "    <tr>\n",
       "      <th>4</th>\n",
       "      <td>2623</td>\n",
       "      <td>6803000000</td>\n",
       "    </tr>\n",
       "    <tr>\n",
       "      <th>5</th>\n",
       "      <td>2625</td>\n",
       "      <td>2215000000</td>\n",
       "    </tr>\n",
       "    <tr>\n",
       "      <th>6</th>\n",
       "      <td>2626</td>\n",
       "      <td>3011000000</td>\n",
       "    </tr>\n",
       "    <tr>\n",
       "      <th>7</th>\n",
       "      <td>2629</td>\n",
       "      <td>4924500000</td>\n",
       "    </tr>\n",
       "    <tr>\n",
       "      <th>8</th>\n",
       "      <td>2630</td>\n",
       "      <td>2808000000</td>\n",
       "    </tr>\n",
       "    <tr>\n",
       "      <th>9</th>\n",
       "      <td>2631</td>\n",
       "      <td>2039000000</td>\n",
       "    </tr>\n",
       "    <tr>\n",
       "      <th>10</th>\n",
       "      <td>2633</td>\n",
       "      <td>2372500000</td>\n",
       "    </tr>\n",
       "    <tr>\n",
       "      <th>11</th>\n",
       "      <td>2634</td>\n",
       "      <td>250000000</td>\n",
       "    </tr>\n",
       "    <tr>\n",
       "      <th>12</th>\n",
       "      <td>2635</td>\n",
       "      <td>979500000</td>\n",
       "    </tr>\n",
       "    <tr>\n",
       "      <th>13</th>\n",
       "      <td>3092</td>\n",
       "      <td>3256000000</td>\n",
       "    </tr>\n",
       "    <tr>\n",
       "      <th>14</th>\n",
       "      <td>11265</td>\n",
       "      <td>264000000</td>\n",
       "    </tr>\n",
       "    <tr>\n",
       "      <th>15</th>\n",
       "      <td>12722</td>\n",
       "      <td>175000000</td>\n",
       "    </tr>\n",
       "  </tbody>\n",
       "</table>\n",
       "</div>"
      ],
      "text/plain": [
       "    branch_id  total_salary\n",
       "0           1   16706500000\n",
       "1           2    5355500000\n",
       "2           3    2033000000\n",
       "3        2590    3711500000\n",
       "4        2623    6803000000\n",
       "5        2625    2215000000\n",
       "6        2626    3011000000\n",
       "7        2629    4924500000\n",
       "8        2630    2808000000\n",
       "9        2631    2039000000\n",
       "10       2633    2372500000\n",
       "11       2634     250000000\n",
       "12       2635     979500000\n",
       "13       3092    3256000000\n",
       "14      11265     264000000\n",
       "15      12722     175000000"
      ]
     },
     "execution_count": 12,
     "metadata": {},
     "output_type": "execute_result"
    }
   ],
   "source": [
    "dfe_acc"
   ]
  },
  {
   "cell_type": "code",
   "execution_count": 13,
   "id": "77600096",
   "metadata": {},
   "outputs": [],
   "source": [
    "dft = pd.read_csv(\"timesheets.csv\")"
   ]
  },
  {
   "cell_type": "code",
   "execution_count": 14,
   "id": "ee6d6a9b",
   "metadata": {},
   "outputs": [],
   "source": [
    "dft = pd.merge(dft,dfe[['employee_id','branch_id']], on='employee_id',how='left')"
   ]
  },
  {
   "cell_type": "code",
   "execution_count": 15,
   "id": "ea3270b0",
   "metadata": {
    "scrolled": true
   },
   "outputs": [
    {
     "name": "stdout",
     "output_type": "stream",
     "text": [
      "<class 'pandas.core.frame.DataFrame'>\n",
      "Int64Index: 39792 entries, 0 to 39791\n",
      "Data columns (total 6 columns):\n",
      " #   Column        Non-Null Count  Dtype \n",
      "---  ------        --------------  ----- \n",
      " 0   timesheet_id  39792 non-null  int64 \n",
      " 1   employee_id   39792 non-null  int64 \n",
      " 2   date          39792 non-null  object\n",
      " 3   checkin       39065 non-null  object\n",
      " 4   checkout      38437 non-null  object\n",
      " 5   branch_id     39792 non-null  int64 \n",
      "dtypes: int64(3), object(3)\n",
      "memory usage: 2.1+ MB\n"
     ]
    }
   ],
   "source": [
    "dft.info()"
   ]
  },
  {
   "cell_type": "code",
   "execution_count": 16,
   "id": "ae133445",
   "metadata": {},
   "outputs": [],
   "source": [
    "dft['date'] = pd.to_datetime(dft['date'])"
   ]
  },
  {
   "cell_type": "code",
   "execution_count": 17,
   "id": "f48d7944",
   "metadata": {},
   "outputs": [],
   "source": [
    "dft['checkin'] = pd.to_datetime(dft['checkin'], format = '%H:%M:%S')"
   ]
  },
  {
   "cell_type": "code",
   "execution_count": 18,
   "id": "57c03cb9",
   "metadata": {},
   "outputs": [],
   "source": [
    "dft['checkout'] = pd.to_datetime(dft['checkout'], format = '%H:%M:%S')"
   ]
  },
  {
   "cell_type": "code",
   "execution_count": 19,
   "id": "218b1584",
   "metadata": {},
   "outputs": [],
   "source": [
    "dft['hours_interval'] = (dft.checkout - dft.checkin) / pd.Timedelta(hours=1)"
   ]
  },
  {
   "cell_type": "code",
   "execution_count": 22,
   "id": "d1323cf5",
   "metadata": {},
   "outputs": [],
   "source": [
    "dft_acc = dft.groupby(['branch_id'])['hours_interval'].sum().reset_index()"
   ]
  },
  {
   "cell_type": "code",
   "execution_count": 23,
   "id": "56f974c8",
   "metadata": {},
   "outputs": [
    {
     "data": {
      "text/html": [
       "<div>\n",
       "<style scoped>\n",
       "    .dataframe tbody tr th:only-of-type {\n",
       "        vertical-align: middle;\n",
       "    }\n",
       "\n",
       "    .dataframe tbody tr th {\n",
       "        vertical-align: top;\n",
       "    }\n",
       "\n",
       "    .dataframe thead th {\n",
       "        text-align: right;\n",
       "    }\n",
       "</style>\n",
       "<table border=\"1\" class=\"dataframe\">\n",
       "  <thead>\n",
       "    <tr style=\"text-align: right;\">\n",
       "      <th></th>\n",
       "      <th>branch_id</th>\n",
       "      <th>hours_interval</th>\n",
       "    </tr>\n",
       "  </thead>\n",
       "  <tbody>\n",
       "    <tr>\n",
       "      <th>0</th>\n",
       "      <td>1</td>\n",
       "      <td>99846.160556</td>\n",
       "    </tr>\n",
       "    <tr>\n",
       "      <th>1</th>\n",
       "      <td>2</td>\n",
       "      <td>21927.865278</td>\n",
       "    </tr>\n",
       "    <tr>\n",
       "      <th>2</th>\n",
       "      <td>3</td>\n",
       "      <td>10940.703611</td>\n",
       "    </tr>\n",
       "    <tr>\n",
       "      <th>3</th>\n",
       "      <td>2590</td>\n",
       "      <td>21885.568333</td>\n",
       "    </tr>\n",
       "    <tr>\n",
       "      <th>4</th>\n",
       "      <td>2623</td>\n",
       "      <td>37489.253056</td>\n",
       "    </tr>\n",
       "    <tr>\n",
       "      <th>5</th>\n",
       "      <td>2625</td>\n",
       "      <td>12030.513611</td>\n",
       "    </tr>\n",
       "    <tr>\n",
       "      <th>6</th>\n",
       "      <td>2626</td>\n",
       "      <td>16484.227778</td>\n",
       "    </tr>\n",
       "    <tr>\n",
       "      <th>7</th>\n",
       "      <td>2629</td>\n",
       "      <td>23464.822778</td>\n",
       "    </tr>\n",
       "    <tr>\n",
       "      <th>8</th>\n",
       "      <td>2630</td>\n",
       "      <td>12877.632778</td>\n",
       "    </tr>\n",
       "    <tr>\n",
       "      <th>9</th>\n",
       "      <td>2631</td>\n",
       "      <td>13029.511111</td>\n",
       "    </tr>\n",
       "    <tr>\n",
       "      <th>10</th>\n",
       "      <td>2633</td>\n",
       "      <td>12827.313056</td>\n",
       "    </tr>\n",
       "    <tr>\n",
       "      <th>11</th>\n",
       "      <td>2634</td>\n",
       "      <td>1400.232222</td>\n",
       "    </tr>\n",
       "    <tr>\n",
       "      <th>12</th>\n",
       "      <td>2635</td>\n",
       "      <td>7305.219444</td>\n",
       "    </tr>\n",
       "    <tr>\n",
       "      <th>13</th>\n",
       "      <td>3092</td>\n",
       "      <td>20781.202222</td>\n",
       "    </tr>\n",
       "    <tr>\n",
       "      <th>14</th>\n",
       "      <td>11265</td>\n",
       "      <td>705.859167</td>\n",
       "    </tr>\n",
       "    <tr>\n",
       "      <th>15</th>\n",
       "      <td>12722</td>\n",
       "      <td>2133.624444</td>\n",
       "    </tr>\n",
       "  </tbody>\n",
       "</table>\n",
       "</div>"
      ],
      "text/plain": [
       "    branch_id  hours_interval\n",
       "0           1    99846.160556\n",
       "1           2    21927.865278\n",
       "2           3    10940.703611\n",
       "3        2590    21885.568333\n",
       "4        2623    37489.253056\n",
       "5        2625    12030.513611\n",
       "6        2626    16484.227778\n",
       "7        2629    23464.822778\n",
       "8        2630    12877.632778\n",
       "9        2631    13029.511111\n",
       "10       2633    12827.313056\n",
       "11       2634     1400.232222\n",
       "12       2635     7305.219444\n",
       "13       3092    20781.202222\n",
       "14      11265      705.859167\n",
       "15      12722     2133.624444"
      ]
     },
     "execution_count": 23,
     "metadata": {},
     "output_type": "execute_result"
    }
   ],
   "source": [
    "dft_acc"
   ]
  },
  {
   "cell_type": "code",
   "execution_count": 24,
   "id": "f0877f01",
   "metadata": {},
   "outputs": [],
   "source": [
    "df = pd.merge(dfe_acc,dft_acc, on='branch_id',how='inner')"
   ]
  },
  {
   "cell_type": "code",
   "execution_count": 28,
   "id": "fe03fcc2",
   "metadata": {},
   "outputs": [],
   "source": [
    "df['salary_per_hour'] = round(df.total_salary / df.hours_interval)"
   ]
  },
  {
   "cell_type": "code",
   "execution_count": 29,
   "id": "3cc88142",
   "metadata": {},
   "outputs": [],
   "source": [
    "df_final = df[['branch_id','salary_per_hour']]"
   ]
  },
  {
   "cell_type": "code",
   "execution_count": 30,
   "id": "618fd00a",
   "metadata": {},
   "outputs": [
    {
     "data": {
      "text/html": [
       "<div>\n",
       "<style scoped>\n",
       "    .dataframe tbody tr th:only-of-type {\n",
       "        vertical-align: middle;\n",
       "    }\n",
       "\n",
       "    .dataframe tbody tr th {\n",
       "        vertical-align: top;\n",
       "    }\n",
       "\n",
       "    .dataframe thead th {\n",
       "        text-align: right;\n",
       "    }\n",
       "</style>\n",
       "<table border=\"1\" class=\"dataframe\">\n",
       "  <thead>\n",
       "    <tr style=\"text-align: right;\">\n",
       "      <th></th>\n",
       "      <th>branch_id</th>\n",
       "      <th>salary_per_hour</th>\n",
       "    </tr>\n",
       "  </thead>\n",
       "  <tbody>\n",
       "    <tr>\n",
       "      <th>0</th>\n",
       "      <td>1</td>\n",
       "      <td>167322.0</td>\n",
       "    </tr>\n",
       "    <tr>\n",
       "      <th>1</th>\n",
       "      <td>2</td>\n",
       "      <td>244233.0</td>\n",
       "    </tr>\n",
       "    <tr>\n",
       "      <th>2</th>\n",
       "      <td>3</td>\n",
       "      <td>185820.0</td>\n",
       "    </tr>\n",
       "    <tr>\n",
       "      <th>3</th>\n",
       "      <td>2590</td>\n",
       "      <td>169587.0</td>\n",
       "    </tr>\n",
       "    <tr>\n",
       "      <th>4</th>\n",
       "      <td>2623</td>\n",
       "      <td>181465.0</td>\n",
       "    </tr>\n",
       "    <tr>\n",
       "      <th>5</th>\n",
       "      <td>2625</td>\n",
       "      <td>184115.0</td>\n",
       "    </tr>\n",
       "    <tr>\n",
       "      <th>6</th>\n",
       "      <td>2626</td>\n",
       "      <td>182659.0</td>\n",
       "    </tr>\n",
       "    <tr>\n",
       "      <th>7</th>\n",
       "      <td>2629</td>\n",
       "      <td>209867.0</td>\n",
       "    </tr>\n",
       "    <tr>\n",
       "      <th>8</th>\n",
       "      <td>2630</td>\n",
       "      <td>218052.0</td>\n",
       "    </tr>\n",
       "    <tr>\n",
       "      <th>9</th>\n",
       "      <td>2631</td>\n",
       "      <td>156491.0</td>\n",
       "    </tr>\n",
       "    <tr>\n",
       "      <th>10</th>\n",
       "      <td>2633</td>\n",
       "      <td>184957.0</td>\n",
       "    </tr>\n",
       "    <tr>\n",
       "      <th>11</th>\n",
       "      <td>2634</td>\n",
       "      <td>178542.0</td>\n",
       "    </tr>\n",
       "    <tr>\n",
       "      <th>12</th>\n",
       "      <td>2635</td>\n",
       "      <td>134082.0</td>\n",
       "    </tr>\n",
       "    <tr>\n",
       "      <th>13</th>\n",
       "      <td>3092</td>\n",
       "      <td>156680.0</td>\n",
       "    </tr>\n",
       "    <tr>\n",
       "      <th>14</th>\n",
       "      <td>11265</td>\n",
       "      <td>374012.0</td>\n",
       "    </tr>\n",
       "    <tr>\n",
       "      <th>15</th>\n",
       "      <td>12722</td>\n",
       "      <td>82020.0</td>\n",
       "    </tr>\n",
       "  </tbody>\n",
       "</table>\n",
       "</div>"
      ],
      "text/plain": [
       "    branch_id  salary_per_hour\n",
       "0           1         167322.0\n",
       "1           2         244233.0\n",
       "2           3         185820.0\n",
       "3        2590         169587.0\n",
       "4        2623         181465.0\n",
       "5        2625         184115.0\n",
       "6        2626         182659.0\n",
       "7        2629         209867.0\n",
       "8        2630         218052.0\n",
       "9        2631         156491.0\n",
       "10       2633         184957.0\n",
       "11       2634         178542.0\n",
       "12       2635         134082.0\n",
       "13       3092         156680.0\n",
       "14      11265         374012.0\n",
       "15      12722          82020.0"
      ]
     },
     "execution_count": 30,
     "metadata": {},
     "output_type": "execute_result"
    }
   ],
   "source": [
    "df_final"
   ]
  }
 ],
 "metadata": {
  "kernelspec": {
   "display_name": "Python [conda env:root] *",
   "language": "python",
   "name": "conda-root-py"
  },
  "language_info": {
   "codemirror_mode": {
    "name": "ipython",
    "version": 3
   },
   "file_extension": ".py",
   "mimetype": "text/x-python",
   "name": "python",
   "nbconvert_exporter": "python",
   "pygments_lexer": "ipython3",
   "version": "3.9.7"
  }
 },
 "nbformat": 4,
 "nbformat_minor": 5
}
